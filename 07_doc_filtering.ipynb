{
 "cells": [
  {
   "cell_type": "markdown",
   "metadata": {
    "slideshow": {
     "slide_type": "slide"
    }
   },
   "source": [
    "# Document Filtering"
   ]
  },
  {
   "cell_type": "markdown",
   "metadata": {
    "slideshow": {
     "slide_type": "slide"
    }
   },
   "source": [
    "# Linear Classification"
   ]
  },
  {
   "cell_type": "code",
   "execution_count": 2,
   "metadata": {},
   "outputs": [],
   "source": [
    "import numpy as np\n",
    "import matplotlib.pyplot as plt\n",
    "import pandas as pd"
   ]
  },
  {
   "cell_type": "code",
   "execution_count": 3,
   "metadata": {},
   "outputs": [
    {
     "data": {
      "text/plain": [
       "[<matplotlib.lines.Line2D at 0x1a1696fa58>,\n",
       " <matplotlib.lines.Line2D at 0x1a169c0f98>]"
      ]
     },
     "execution_count": 3,
     "metadata": {},
     "output_type": "execute_result"
    },
    {
     "data": {
      "image/png": "[encoded data removed]",
      "text/plain": [
       "<Figure size 432x288 with 1 Axes>"
      ]
     },
     "metadata": {
      "needs_background": "light"
     },
     "output_type": "display_data"
    }
   ],
   "source": [
    "n = 20\n",
    "x1 = (np.random.rand(n, 2)*5)+26\n",
    "x2 = (np.random.rand(n,2)*5) +20\n",
    "plt.plot(x1, 'b*')\n",
    "plt.plot(x2, 'r.')"
   ]
  },
  {
   "cell_type": "markdown",
   "metadata": {},
   "source": [
    "Bayesian Decision Boundary - Where dist to mean is the same"
   ]
  },
  {
   "cell_type": "code",
   "execution_count": 4,
   "metadata": {},
   "outputs": [
    {
     "data": {
      "text/plain": [
       "[<matplotlib.lines.Line2D at 0x1a16ac8908>,\n",
       " <matplotlib.lines.Line2D at 0x1a16a33588>]"
      ]
     },
     "execution_count": 4,
     "metadata": {},
     "output_type": "execute_result"
    },
    {
     "data": {
      "image/png": "[encoded data removed]",
      "text/plain": [
       "<Figure size 432x288 with 1 Axes>"
      ]
     },
     "metadata": {
      "needs_background": "light"
     },
     "output_type": "display_data"
    }
   ],
   "source": [
    "m1 = np.mean(x1)\n",
    "m2 = np.mean(x2)\n",
    "d = (m1 + m2)/2; yd = np.ones(n)*d; xd = range(n)\n",
    "plt.plot(xd, yd); plt.plot(x1, 'b*'); plt.plot(x2, 'r.')"
   ]
  },
  {
   "cell_type": "code",
   "execution_count": 5,
   "metadata": {},
   "outputs": [
    {
     "data": {
      "text/plain": [
       "[<matplotlib.lines.Line2D at 0x1a16b98ba8>]"
      ]
     },
     "execution_count": 5,
     "metadata": {},
     "output_type": "execute_result"
    },
    {
     "data": {
      "image/png": "[encoded data removed]",
      "text/plain": [
       "<Figure size 432x288 with 1 Axes>"
      ]
     },
     "metadata": {
      "needs_background": "light"
     },
     "output_type": "display_data"
    }
   ],
   "source": [
    "n = 20\n",
    "x1 = (np.random.rand(n, 2)*10)+26\n",
    "x2 = (np.random.rand(n,2)*10) +20\n",
    "m1 = np.mean(x1, axis=0); m2 = np.mean(x2, axis=0)\n",
    "p1 = np.mean([m1,m2], axis=0)\n",
    "p2 = p1 + [-m1[1] + m2[1],m1[0] - m2[0]]\n",
    "p3 = p1 - [-m1[1] + m2[1],m1[0] - m2[0]]\n",
    "plt.plot(x1[:,0], x1[:,1], 'b*'); plt.plot(x2[:,0],x2[:,1], 'r.')\n",
    "plt.plot([p2[0],p3[0]],[ p2[1], p3[1]])"
   ]
  },
  {
   "cell_type": "code",
   "execution_count": 6,
   "metadata": {},
   "outputs": [],
   "source": [
    "# turn data in to training data\n",
    "from sklearn.model_selection import train_test_split\n",
    "X1 = np.array([(x[0], x[1],0) for x in x1]); X2 = np.array([(x[0],x[1],1) for x in x2])\n",
    "X = np.concatenate([X1, X2])\n",
    "X_data = pd.DataFrame(X[:,:2])\n",
    "y_data = pd.DataFrame(X[:,2], dtype=int)\n",
    "\n",
    "y_data = pd.get_dummies(y_data[0])# changes category label to one hot encoding\n",
    "x_train, x_test, y_train, y_test = train_test_split(X_data, y_data)\n"
   ]
  },
  {
   "cell_type": "code",
   "execution_count": null,
   "metadata": {},
   "outputs": [],
   "source": [
    "from keras.layers import Dense, Activation\n",
    "from keras.models import Sequential\n",
    "from keras import optimizers\n",
    "\n",
    "model = Sequential([\n",
    "    Dense(16, input_shape=(2,)), Activation('sigmoid'),\n",
    "    Dense(2), Activation('sigmoid'),\n",
    "])\n",
    "model.compile(optimizer='adam',\n",
    "              loss='binary_crossentropy', # For a binary classification problem\n",
    "              metrics=['accuracy'])\n",
    "# Train the model\n",
    "model.fit(x_train, y_train, epochs=10000, verbose=0)\n",
    "score = model.evaluate(x_test, y_test)\n",
    "print(score)"
   ]
  },
  {
   "cell_type": "code",
   "execution_count": null,
   "metadata": {},
   "outputs": [],
   "source": [
    "x_min, x_max = X[:, 0].min() - 1, X[:, 0].max() + 1\n",
    "y_min, y_max = X[:, 1].min() - 1, X[:, 1].max() + 1\n",
    "h = 0.1  # step size in the mesh\n",
    "xx, yy = np.meshgrid(np.arange(x_min, x_max, h),\n",
    "                     np.arange(y_min, y_max, h))\n",
    "\n",
    "Z = model.predict(np.c_[xx.ravel(), yy.ravel()])\n",
    "Z = Z.argmax(axis=1)\n",
    "Z = Z.reshape(xx.shape)\n",
    "plt.scatter(x1[:,0],x1[:,1],marker='*',c='b',s=5)\n",
    "plt.scatter(x2[:,0],x2[:,1],marker='o',c='r',s=5)\n",
    "CS = plt.contour(xx, yy, Z,  levels=[0.5])"
   ]
  },
  {
   "cell_type": "code",
   "execution_count": null,
   "metadata": {
    "slideshow": {
     "slide_type": "slide"
    }
   },
   "outputs": [],
   "source": [
    "from sklearn.svm import SVC\n",
    "clf = SVC(gamma='auto')\n",
    "y_data = np.argmax(np.array(y_data), axis=1)\n",
    "clf.fit(X_data, y_data)"
   ]
  },
  {
   "cell_type": "code",
   "execution_count": null,
   "metadata": {},
   "outputs": [],
   "source": [
    "x_min, x_max = X[:, 0].min() - 1, X[:, 0].max() + 1\n",
    "y_min, y_max = X[:, 1].min() - 1, X[:, 1].max() + 1\n",
    "h = 0.1  # step size in the mesh\n",
    "xx, yy = np.meshgrid(np.arange(x_min, x_max, h),\n",
    "                     np.arange(y_min, y_max, h))\n",
    "Z = clf.predict(np.c_[xx.ravel(), yy.ravel()])\n",
    "Z = Z.reshape(xx.shape)\n",
    "plt.scatter(x1[:,0],x1[:,1],marker='*',c='b',s=5)\n",
    "plt.scatter(x2[:,0],x2[:,1],marker='o',c='r',s=5)\n",
    "CS = plt.contour(xx, yy, Z,  levels=[0])"
   ]
  },
  {
   "cell_type": "code",
   "execution_count": null,
   "metadata": {},
   "outputs": [],
   "source": []
  },
  {
   "cell_type": "code",
   "execution_count": null,
   "metadata": {},
   "outputs": [],
   "source": [
    "import numpy as np\n",
    "import matplotlib.pyplot as plt\n",
    "%matplotlib inline\n",
    "n = 20\n",
    "x1 = (np.random.rand(n, 2)*7)+26\n",
    "x2 = (np.random.rand(n,2)*7) +20\n",
    "plt.scatter(x1[:,0],x1[:,1],marker='*',c='b',s=5)\n",
    "plt.scatter(x2[:,0],x2[:,1],marker='o',c='r',s=5)"
   ]
  },
  {
   "cell_type": "code",
   "execution_count": null,
   "metadata": {},
   "outputs": [],
   "source": [
    "# add bias column to data\n",
    "bias_col = np.ones((n,1))\n",
    "x1 = np.column_stack([x1, bias_col])\n",
    "x2 = np.column_stack([x2, bias_col])\n",
    "X_data = np.row_stack([x1, x2])\n",
    "y1 = bias_col\n",
    "y2 = -1*bias_col\n",
    "Y_data = np.row_stack([y1, y2])\n"
   ]
  },
  {
   "cell_type": "code",
   "execution_count": null,
   "metadata": {},
   "outputs": [],
   "source": [
    "w = np.random.normal(size=(3,1))\n",
    "x =  np.linspace(20, 34, 10)\n",
    "runs = 1000\n",
    "eta = 0.1\n"
   ]
  },
  {
   "cell_type": "code",
   "execution_count": null,
   "metadata": {},
   "outputs": [],
   "source": [
    "n = 20\n",
    "np.random.seed(12345)\n",
    "x1 = (np.random.rand(n, 2)*10)+26\n",
    "x2 = (np.random.rand(n,2)*10) +20\n",
    "x3 = (np.multiply(np.random.rand(n,2),[5,10]))+[20,28]\n",
    "\n",
    "m1 = np.mean(x1, axis=0); m2 = np.mean(x2, axis=0);m3 = np.mean(x3,axis=0)\n",
    "p1 = np.mean([m1,m2], axis=0)\n",
    "p2 = p1 + [-m1[1] + m2[1],m1[0] - m2[0]]\n",
    "p3 = p1 - [-m1[1] + m2[1],m1[0] - m2[0]]\n",
    "plt.plot(x1[:,0], x1[:,1], 'b*'); plt.plot(x2[:,0],x2[:,1], 'r.');plt.plot(x3[:,0],x3[:,1], 'mv')\n",
    "plt.plot([p2[0],p3[0]],[ p2[1], p3[1]])"
   ]
  },
  {
   "cell_type": "code",
   "execution_count": null,
   "metadata": {},
   "outputs": [],
   "source": [
    "def plot_dist_mean_line(m1, m2, c):\n",
    "    p1 = np.mean([m1,m2], axis=0)\n",
    "    p2 = p1 + [-m1[1] + m2[1],m1[0] - m2[0]]\n",
    "    p3 = p1 - [-m1[1] + m2[1],m1[0] - m2[0]]\n",
    "\n",
    "    plt.plot([p2[0],p3[0]],[ p2[1], p3[1]],c)\n",
    "    "
   ]
  },
  {
   "cell_type": "code",
   "execution_count": null,
   "metadata": {},
   "outputs": [],
   "source": [
    "n = 20\n",
    "np.random.seed(12345)\n",
    "x1 = (np.random.rand(n, 2)*10)+26\n",
    "x2 = (np.random.rand(n,2)*10) +20\n",
    "x3 = (np.multiply(np.random.rand(n,2),[5,10]))+[20,28]\n",
    "\n",
    "m1 = np.mean(x1, axis=0); m2 = np.mean(x2, axis=0);m3 = np.mean(x3,axis=0)\n",
    "plt.plot(x1[:,0], x1[:,1], 'b*'); plt.plot(x2[:,0],x2[:,1], 'r.');plt.plot(x3[:,0],x3[:,1], 'gv')\n",
    "plot_dist_mean_line(m1, m2, 'm')\n",
    "plot_dist_mean_line(m1,m3,'c')\n",
    "plot_dist_mean_line(m2,m3,'y')"
   ]
  },
  {
   "cell_type": "code",
   "execution_count": null,
   "metadata": {},
   "outputs": [],
   "source": [
    "\n",
    "plt.plot(x1[:,0], x1[:,1], 'b*'); plt.plot(x2[:,0],x2[:,1], 'r.');plt.plot(x3[:,0],x3[:,1], 'gv')\n",
    "plot_dist_mean_line(m1, (m2+m3)/2, 'y')\n",
    "plot_dist_mean_line(m2,(m1+m3)/2,'c')\n",
    "plot_dist_mean_line(m3,(m1+m2)/2,'m')"
   ]
  },
  {
   "cell_type": "markdown",
   "metadata": {
    "slideshow": {
     "slide_type": "slide"
    }
   },
   "source": [
    "# Part of Speech tagging"
   ]
  },
  {
   "cell_type": "code",
   "execution_count": 3,
   "metadata": {
    "slideshow": {
     "slide_type": "-"
    }
   },
   "outputs": [
    {
     "name": "stdout",
     "output_type": "stream",
     "text": [
      "[nltk_data] Downloading package punkt to /Users/jojo/nltk_data...\n",
      "[nltk_data]   Unzipping tokenizers/punkt.zip.\n",
      "['The', 'quick', 'brown', 'fox', 'jumped', 'over', 'the', 'lazy', 'dog']\n"
     ]
    }
   ],
   "source": [
    "import nltk\n",
    "nltk.download('punkt')\n",
    "sentence = \"The quick brown fox jumped over the lazy dog\"\n",
    "tokens = nltk.word_tokenize(sentence)\n",
    "print(tokens)"
   ]
  },
  {
   "cell_type": "code",
   "execution_count": 6,
   "metadata": {
    "slideshow": {
     "slide_type": "slide"
    }
   },
   "outputs": [
    {
     "name": "stdout",
     "output_type": "stream",
     "text": [
      "[nltk_data] Downloading package averaged_perceptron_tagger to\n",
      "[nltk_data]     /Users/jojo/nltk_data...\n",
      "[nltk_data]   Package averaged_perceptron_tagger is already up-to-\n",
      "[nltk_data]       date!\n",
      "[('The', 'DT'), ('quick', 'JJ'), ('brown', 'NN'), ('fox', 'NN'), ('jumped', 'VBD'), ('over', 'IN'), ('the', 'DT'), ('lazy', 'JJ'), ('dog', 'NN')]\n"
     ]
    }
   ],
   "source": [
    "nltk.download('averaged_perceptron_tagger')\n",
    "pos = nltk.pos_tag(tokens)\n",
    "print(pos)"
   ]
  },
  {
   "cell_type": "code",
   "execution_count": 16,
   "metadata": {
    "slideshow": {
     "slide_type": "slide"
    }
   },
   "outputs": [
    {
     "name": "stdout",
     "output_type": "stream",
     "text": [
      "(S\n",
      "  (NP The/DT quick/JJ brown/NN)\n",
      "  (NP fox/NN)\n",
      "  jumped/VBD\n",
      "  over/IN\n",
      "  (NP the/DT lazy/JJ dog/NN))\n"
     ]
    }
   ],
   "source": [
    "def preprocess(sent):\n",
    "    sent = nltk.word_tokenize(sent)\n",
    "    sent = nltk.pos_tag(sent)\n",
    "    return sent\n",
    "sent = preprocess(sentence)\n",
    "pattern = 'NP: {<DT>?<JJ>*<NN>}'\n",
    "cp = nltk.RegexpParser(pattern)\n",
    "cs = cp.parse(sent)\n",
    "print(cs)"
   ]
  },
  {
   "cell_type": "markdown",
   "metadata": {
    "slideshow": {
     "slide_type": "slide"
    }
   },
   "source": [
    "# Named Entity Extraction"
   ]
  },
  {
   "cell_type": "code",
   "execution_count": 28,
   "metadata": {},
   "outputs": [
    {
     "name": "stdout",
     "output_type": "stream",
     "text": [
      "(S\n",
      "  but/CC\n",
      "  unfortunately/RB\n",
      "  for/IN\n",
      "  (ORGANIZATION MSC/NNP Bellissima/NNP)\n",
      "  ,/,\n",
      "  the/DT\n",
      "  (GPE British/JJ)\n",
      "  weather/NN\n",
      "  intervened/VBD\n",
      "  ./.)\n"
     ]
    }
   ],
   "source": [
    "#nltk.download('maxent_ne_chunker')\n",
    "#nltk.download('words')\n",
    "sentence1 = \"but unfortunately for MSC Bellissima, the British weather intervened.\"\n",
    "sent1 = preprocess(sentence1)\n",
    "ne_tree1 = nltk.ne_chunk(sent1)\n",
    "print(ne_tree1)"
   ]
  },
  {
   "cell_type": "code",
   "execution_count": 29,
   "metadata": {},
   "outputs": [
    {
     "name": "stdout",
     "output_type": "stream",
     "text": [
      "(S\n",
      "  (ORGANIZATION MSC/NNP)\n",
      "  chairman/NN\n",
      "  (PERSON Pierfrancesco/NNP Vago/NNP)\n",
      "  walked/VBD\n",
      "  out/RP\n",
      "  on/IN\n",
      "  stage/NN\n",
      "  while/IN\n",
      "  his/PRP$\n",
      "  (ORGANIZATION CEO/NNP Gianni/NNP Onorato/NNP)\n",
      "  was/VBD\n",
      "  speaking/VBG\n",
      "  ./.)\n"
     ]
    }
   ],
   "source": [
    "sentence2=\"MSC chairman Pierfrancesco Vago walked out on stage while his CEO Gianni Onorato was speaking.\"\n",
    "sent2 = preprocess(sentence2)\n",
    "ne_tree2 = nltk.ne_chunk(sent2)\n",
    "print(ne_tree2)"
   ]
  },
  {
   "cell_type": "code",
   "execution_count": null,
   "metadata": {},
   "outputs": [],
   "source": [
    "Using these tools "
   ]
  }
 ],
 "metadata": {
  "celltoolbar": "Slideshow",
  "kernelspec": {
   "display_name": "Python 3",
   "language": "python",
   "name": "python3"
  },
  "language_info": {
   "codemirror_mode": {
    "name": "ipython",
    "version": 3
   },
   "file_extension": ".py",
   "mimetype": "text/x-python",
   "name": "python",
   "nbconvert_exporter": "python",
   "pygments_lexer": "ipython3",
   "version": "3.7.0"
  }
 },
 "nbformat": 4,
 "nbformat_minor": 2
}
