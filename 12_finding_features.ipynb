{
 "cells": [
  {
   "cell_type": "markdown",
   "metadata": {},
   "source": [
    "# Finding Features"
   ]
  },
  {
   "cell_type": "markdown",
   "metadata": {},
   "source": [
    "# Non-Negative Matrix Factorisation"
   ]
  },
  {
   "cell_type": "code",
   "execution_count": 1,
   "metadata": {},
   "outputs": [],
   "source": [
    "import numpy as np\n",
    "import pandas as pd\n",
    "import matplotlib.pyplot as plt\n",
    "from sklearn.decomposition import NMF\n",
    "from sklearn.datasets import fetch_20newsgroups\n",
    "from sklearn.feature_extraction.text import TfidfVectorizer"
   ]
  },
  {
   "cell_type": "code",
   "execution_count": null,
   "metadata": {},
   "outputs": [],
   "source": []
  },
  {
   "cell_type": "code",
   "execution_count": 2,
   "metadata": {},
   "outputs": [],
   "source": [
    "strings = [\"Human machine interface for ABC computer applications\",\n",
    "\"A survey of user opinion of computer system response time\",\n",
    "\"The EPS user interface management system\",\n",
    "\"System and human system engineering testing of EPS\",\n",
    "\"Relation of user perceived response time to error measurement\",\n",
    "\"The generation of random, binary, ordered trees\",\n",
    "\"The intersection graph of paths in trees\",\n",
    "\"Graph minors IV: Widths of trees and well-quasi-ordering\",\n",
    "\"Graph minors: A survey\"]\n",
    "string_short = [\"m1\",\"m2\", \"m3\", \"m4\", \"m5\", \"g1\", \"g2\", 'g3', \"g4\"]\n",
    "t_v3 = TfidfVectorizer( max_features=12,\n",
    "                                   stop_words='english', sublinear_tf=True)\n",
    "\n",
    "titles = t_v3.fit_transform(strings)\n",
    "titles_d=titles.todense()"
   ]
  },
  {
   "cell_type": "code",
   "execution_count": 3,
   "metadata": {},
   "outputs": [],
   "source": [
    "def frob_diff(A, W, H):\n",
    "    diff = np.sum(np.square(np.subtract(A, np.dot(W,H))))\n",
    "    return diff\n",
    "def update_W(A, W, H):\n",
    "    AHT = np.dot(A, H.T)\n",
    "    WHHT = np.dot(W, np.dot(H, H.T))\n",
    "    W = np.multiply(W, np.divide(AHT, WHHT))\n",
    "    return np.divide(W, np.sum(W, axis=1))   \n",
    "def update_H(A, W, H):\n",
    "    WTA = np.dot(W.T, A)\n",
    "    WTWH = np.dot(np.dot(W.T, W), H)\n",
    "    return np.multiply(H, np.divide(WTA, WTWH))\n"
   ]
  },
  {
   "cell_type": "code",
   "execution_count": 4,
   "metadata": {},
   "outputs": [],
   "source": [
    "def my_nmf(A, d):\n",
    "    diff = 1000\n",
    "    eps = .001\n",
    "    m = A.shape[0]\n",
    "    n = A.shape[1]\n",
    "    W = np.random.random((m,d))\n",
    "    H = np.random.random((d,n))\n",
    "    old = 1000\n",
    "    new = 1000\n",
    "    n = 1\n",
    "    while diff>eps:\n",
    "        old = new\n",
    "        W = update_W(A, W, H)\n",
    "        H = update_H(A, W, H)\n",
    "        new = frob_diff(A, W, H)\n",
    "        diff = abs(new - old)\n",
    "        n+=1\n",
    "        if n==100:\n",
    "            break\n",
    "    return W, H"
   ]
  },
  {
   "cell_type": "code",
   "execution_count": 5,
   "metadata": {},
   "outputs": [
    {
     "data": {
      "image/png": "[encoded data removed]",
      "text/plain": [
       "<Figure size 432x288 with 1 Axes>"
      ]
     },
     "metadata": {
      "needs_background": "light"
     },
     "output_type": "display_data"
    }
   ],
   "source": [
    "A = titles_d\n",
    "d = 4\n",
    "\n",
    "W, H = my_nmf(A, 4)\n",
    "\n",
    "plt.imshow(H)\n",
    "plt.show();"
   ]
  },
  {
   "cell_type": "code",
   "execution_count": 6,
   "metadata": {},
   "outputs": [
    {
     "data": {
      "image/png": "[encoded data removed]",
      "text/plain": [
       "<Figure size 432x288 with 1 Axes>"
      ]
     },
     "metadata": {
      "needs_background": "light"
     },
     "output_type": "display_data"
    }
   ],
   "source": [
    "fig, ax = plt.subplots()\n",
    "im = ax.imshow(titles_d.T, cmap=plt.cm.Oranges)\n",
    "ax.set_yticks(np.arange(len(t_v3.get_feature_names())))\n",
    "ax.set_xticks(np.arange(len(strings)))\n",
    "ax.set_yticklabels(t_v3.get_feature_names());\n",
    "ax.set_xticklabels(string_short); plt.savefig(\"./images/titles_A.png\", bbox_inches='tight');"
   ]
  },
  {
   "cell_type": "code",
   "execution_count": 7,
   "metadata": {},
   "outputs": [
    {
     "data": {
      "image/png": "[encoded data removed]",
      "text/plain": [
       "<Figure size 432x288 with 1 Axes>"
      ]
     },
     "metadata": {
      "needs_background": "light"
     },
     "output_type": "display_data"
    }
   ],
   "source": [
    "fig, ax = plt.subplots()\n",
    "im = ax.imshow(W, cmap=plt.cm.Oranges)\n",
    "\n",
    "ax.set_yticks(np.arange(len(strings)))\n",
    "ax.set_yticklabels(string_short); plt.savefig(\"./images/titles_W.png\", bbox_inches='tight');"
   ]
  },
  {
   "cell_type": "code",
   "execution_count": 8,
   "metadata": {},
   "outputs": [
    {
     "data": {
      "image/png": "[encoded data removed]",
      "text/plain": [
       "<Figure size 432x288 with 1 Axes>"
      ]
     },
     "metadata": {
      "needs_background": "light"
     },
     "output_type": "display_data"
    }
   ],
   "source": [
    "fig, ax = plt.subplots()\n",
    "im = ax.imshow(H, cmap=plt.cm.Oranges)\n",
    "\n",
    "ax.set_xticks(np.arange(len(t_v3.get_feature_names())));\n",
    "ax.set_xticklabels(t_v3.get_feature_names(), rotation='vertical'); plt.savefig(\"./images/titles_H.png\", bbox_inches='tight');"
   ]
  },
  {
   "cell_type": "markdown",
   "metadata": {},
   "source": [
    "# Compare with library function"
   ]
  },
  {
   "cell_type": "code",
   "execution_count": 9,
   "metadata": {},
   "outputs": [],
   "source": [
    "nmf = NMF(n_components=d, init='random', random_state=0)\n",
    "W = nmf.fit_transform(A)"
   ]
  },
  {
   "cell_type": "code",
   "execution_count": 10,
   "metadata": {},
   "outputs": [
    {
     "data": {
      "image/png": "[encoded data removed]",
      "text/plain": [
       "<Figure size 432x288 with 1 Axes>"
      ]
     },
     "metadata": {
      "needs_background": "light"
     },
     "output_type": "display_data"
    }
   ],
   "source": [
    "fig, ax = plt.subplots()\n",
    "im = ax.imshow(W, cmap=plt.cm.Oranges)\n",
    "\n",
    "ax.set_yticks(np.arange(len(strings)))\n",
    "ax.set_yticklabels(string_short); plt.savefig(\"./images/titles_W.png\", bbox_inches='tight');"
   ]
  },
  {
   "cell_type": "code",
   "execution_count": 11,
   "metadata": {},
   "outputs": [
    {
     "data": {
      "image/png": "[encoded data removed]",
      "text/plain": [
       "<Figure size 432x288 with 1 Axes>"
      ]
     },
     "metadata": {
      "needs_background": "light"
     },
     "output_type": "display_data"
    }
   ],
   "source": [
    "H = nmf.components_\n",
    "fig, ax = plt.subplots()\n",
    "im = ax.imshow(H, cmap=plt.cm.Oranges)\n",
    "\n",
    "ax.set_xticks(np.arange(len(t_v3.get_feature_names())));\n",
    "ax.set_xticklabels(t_v3.get_feature_names(), rotation='vertical'); plt.savefig(\"./images/titles_H.png\", bbox_inches='tight');"
   ]
  },
  {
   "cell_type": "markdown",
   "metadata": {},
   "source": [
    "# to get words associated with each 'Topic' "
   ]
  },
  {
   "cell_type": "code",
   "execution_count": 12,
   "metadata": {},
   "outputs": [
    {
     "name": "stdout",
     "output_type": "stream",
     "text": [
      "\n",
      "Topics in NMF model (Frobenius norm):\n",
      "Topic #0: human eps interface\n",
      "Topic #1: minors graph survey\n",
      "Topic #2: time response user\n",
      "Topic #3: trees graph eps\n",
      "\n"
     ]
    }
   ],
   "source": [
    "def print_top_words(model, feature_names, n_top_words):\n",
    "    for topic_idx, topic in enumerate(model.components_):\n",
    "        message = \"Topic #%d: \" % topic_idx\n",
    "        message += \" \".join([feature_names[i]\n",
    "                             for i in topic.argsort()[:-n_top_words - 1:-1]])\n",
    "        print(message)\n",
    "    print()\n",
    "n_top_words = 3\n",
    "print(\"\\nTopics in NMF model (Frobenius norm):\")\n",
    "tfidf_feature_names = t_v3.get_feature_names()\n",
    "print_top_words(nmf, tfidf_feature_names, n_top_words)"
   ]
  },
  {
   "cell_type": "markdown",
   "metadata": {},
   "source": [
    "# News Group Dataset"
   ]
  },
  {
   "cell_type": "code",
   "execution_count": 58,
   "metadata": {},
   "outputs": [],
   "source": [
    "n_features = 100\n",
    "n_samples = 2000\n",
    "dataset = fetch_20newsgroups(shuffle=True, random_state=1,\n",
    "                             remove=('headers', 'footers', 'quotes'))\n",
    "data_samples = dataset.data[:n_samples]\n",
    "t_v1 = TfidfVectorizer(max_features=n_features, max_df = 0.7, stop_words='english' )\n",
    "news = t_v1.fit_transform(data_samples)\n",
    "news_d=news.todense()"
   ]
  },
  {
   "cell_type": "code",
   "execution_count": 59,
   "metadata": {},
   "outputs": [],
   "source": [
    "d = 20\n",
    "nmf = NMF(n_components=d, init='random', random_state=0)\n",
    "W = nmf.fit_transform(news_d)"
   ]
  },
  {
   "cell_type": "code",
   "execution_count": 60,
   "metadata": {},
   "outputs": [
    {
     "data": {
      "image/png": "[encoded data removed]",
      "text/plain": [
       "<Figure size 432x288 with 1 Axes>"
      ]
     },
     "metadata": {
      "needs_background": "light"
     },
     "output_type": "display_data"
    }
   ],
   "source": [
    "fig, ax = plt.subplots()\n",
    "im = ax.imshow(W, cmap=plt.cm.Oranges)\n",
    "\n",
    "plt.savefig(\"./images/news_W.png\", bbox_inches='tight');"
   ]
  },
  {
   "cell_type": "code",
   "execution_count": 61,
   "metadata": {},
   "outputs": [
    {
     "data": {
      "image/png": "[encoded data removed]",
      "text/plain": [
       "<Figure size 432x288 with 1 Axes>"
      ]
     },
     "metadata": {
      "needs_background": "light"
     },
     "output_type": "display_data"
    }
   ],
   "source": [
    "H = nmf.components_\n",
    "fig, ax = plt.subplots()\n",
    "im = ax.imshow(H, cmap=plt.cm.Oranges)\n",
    "\n",
    "plt.savefig(\"./images/titles_H.png\", bbox_inches='tight');"
   ]
  },
  {
   "cell_type": "code",
   "execution_count": 63,
   "metadata": {},
   "outputs": [
    {
     "name": "stdout",
     "output_type": "stream",
     "text": [
      "\n",
      "Topics in NMF model (Frobenius norm):\n",
      "Topic #0: people things state number life believe different law government come\n",
      "Topic #1: know don want need doesn let sure didn look bit\n",
      "Topic #2: new great old computer things years need version little question\n",
      "Topic #3: thanks mail information need send help card want question like\n",
      "Topic #4: problem make try file using high work help question need\n",
      "Topic #5: edu send information mail try need public computer program available\n",
      "Topic #6: think don case need course just second little going question\n",
      "Topic #7: like just really don probably believe want look things thing\n",
      "Topic #8: windows file using program version software help graphics mail work\n",
      "Topic #9: use key want need doesn number data place work power\n",
      "Topic #10: does information using doesn key read make card program thing\n",
      "Topic #11: com really want case mail send little 16 file software\n",
      "Topic #12: good want thing using best read look little better course\n",
      "Topic #13: way did right say government said make ll sure law\n",
      "Topic #14: god believe life come point fact say world read things\n",
      "Topic #15: car year better power old great probably ll number state\n",
      "Topic #16: used 10 space years 11 12 15 data 16 20\n",
      "Topic #17: time long real really program going bit help great little\n",
      "Topic #18: ve got try read help really bit thing work available\n",
      "Topic #19: drive hard software disk computer card power work different available\n",
      "\n"
     ]
    }
   ],
   "source": [
    "n_top_words = 10\n",
    "print(\"\\nTopics in NMF model (Frobenius norm):\")\n",
    "tfidf_feature_names = t_v1.get_feature_names()\n",
    "print_top_words(nmf, tfidf_feature_names, n_top_words)"
   ]
  },
  {
   "cell_type": "code",
   "execution_count": null,
   "metadata": {},
   "outputs": [],
   "source": []
  }
 ],
 "metadata": {
  "kernelspec": {
   "display_name": "Python 3",
   "language": "python",
   "name": "python3"
  },
  "language_info": {
   "codemirror_mode": {
    "name": "ipython",
    "version": 3
   },
   "file_extension": ".py",
   "mimetype": "text/x-python",
   "name": "python",
   "nbconvert_exporter": "python",
   "pygments_lexer": "ipython3",
   "version": "3.6.8"
  }
 },
 "nbformat": 4,
 "nbformat_minor": 2
}
